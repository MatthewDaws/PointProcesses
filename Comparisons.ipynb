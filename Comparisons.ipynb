{
 "cells": [
  {
   "cell_type": "code",
   "execution_count": 1,
   "metadata": {
    "collapsed": false
   },
   "outputs": [],
   "source": [
    "%matplotlib inline\n",
    "import matplotlib.pyplot as plt\n",
    "import numpy as np\n",
    "import pandas as pd\n",
    "import scipy.stats\n",
    "import scipy.integrate"
   ]
  },
  {
   "cell_type": "markdown",
   "metadata": {},
   "source": [
    "# Comparisons\n",
    "\n",
    "To make things really easy, let's ignore time, and work in one dimension.  Events will take place in $[0,1]$.\n",
    "\n",
    "## Example 1\n",
    "\n",
    "Actual pattern is [CSR](https://en.wikipedia.org/wiki/Complete_spatial_randomness) with some overall rate (say 10 events, on average).  One \"prediction\" is the same, other other is a inhomogeneous Poisson process with intensity $2t$ for $0\\leq t\\leq 1$.\n",
    "\n",
    "## Hit rate\n",
    "\n",
    "We put a grid down (chunk $[0,1]$ into intervals), select 5% (or whatever) of the intervals by risk, and see how many events we capture.  If grid cells have the same risk, we'll break at random.\n",
    "\n",
    "We cannot tell the difference (as should be)."
   ]
  },
  {
   "cell_type": "code",
   "execution_count": 2,
   "metadata": {
    "collapsed": false
   },
   "outputs": [],
   "source": [
    "def coverage1(total_cells, cells_to_pick):\n",
    "    # Homogeneous, so pick at random\n",
    "    return np.random.choice(total_cells, size=cells_to_pick, replace=False)\n",
    "    \n",
    "def coverage2(total_cells, cells_to_pick):\n",
    "    # Intensity increases, so top slice will always pick the last cells\n",
    "    return np.arange(total_cells)[-cells_to_pick:]\n",
    "\n",
    "assert np.all(coverage2(10, 3) == [7,8,9])\n",
    "\n",
    "def score(events, total_cells, cells):\n",
    "    count = 0\n",
    "    for t in events:\n",
    "        t = int(np.floor(t * total_cells))\n",
    "        if t in cells:\n",
    "            count += 1\n",
    "    return count / len(events)"
   ]
  },
  {
   "cell_type": "code",
   "execution_count": 3,
   "metadata": {
    "collapsed": false
   },
   "outputs": [],
   "source": [
    "trials = 10000\n",
    "cells = 10\n",
    "coverage = 3\n",
    "\n",
    "hit_rate_1 = []\n",
    "hit_rate_2 = []\n",
    "for _ in range(trials):\n",
    "    num_events = np.random.poisson(lam=10)\n",
    "    events = np.random.random(size=num_events)\n",
    "    if len(events) == 0:\n",
    "        continue\n",
    "    pred1 = coverage1(cells, coverage)\n",
    "    pred2 = coverage2(cells, coverage)\n",
    "    hit_rate_1.append( score(events, cells, pred1) )\n",
    "    hit_rate_2.append( score(events, cells, pred2) )"
   ]
  },
  {
   "cell_type": "code",
   "execution_count": 4,
   "metadata": {
    "collapsed": false
   },
   "outputs": [
    {
     "data": {
      "text/html": [
       "<div>\n",
       "<table border=\"1\" class=\"dataframe\">\n",
       "  <thead>\n",
       "    <tr style=\"text-align: right;\">\n",
       "      <th></th>\n",
       "      <th>One</th>\n",
       "      <th>Two</th>\n",
       "    </tr>\n",
       "  </thead>\n",
       "  <tbody>\n",
       "    <tr>\n",
       "      <th>count</th>\n",
       "      <td>10000.000000</td>\n",
       "      <td>10000.000000</td>\n",
       "    </tr>\n",
       "    <tr>\n",
       "      <th>mean</th>\n",
       "      <td>0.302664</td>\n",
       "      <td>0.299560</td>\n",
       "    </tr>\n",
       "    <tr>\n",
       "      <th>std</th>\n",
       "      <td>0.155089</td>\n",
       "      <td>0.156065</td>\n",
       "    </tr>\n",
       "    <tr>\n",
       "      <th>min</th>\n",
       "      <td>0.000000</td>\n",
       "      <td>0.000000</td>\n",
       "    </tr>\n",
       "    <tr>\n",
       "      <th>25%</th>\n",
       "      <td>0.200000</td>\n",
       "      <td>0.200000</td>\n",
       "    </tr>\n",
       "    <tr>\n",
       "      <th>50%</th>\n",
       "      <td>0.300000</td>\n",
       "      <td>0.285714</td>\n",
       "    </tr>\n",
       "    <tr>\n",
       "      <th>75%</th>\n",
       "      <td>0.400000</td>\n",
       "      <td>0.400000</td>\n",
       "    </tr>\n",
       "    <tr>\n",
       "      <th>max</th>\n",
       "      <td>1.000000</td>\n",
       "      <td>1.000000</td>\n",
       "    </tr>\n",
       "  </tbody>\n",
       "</table>\n",
       "</div>"
      ],
      "text/plain": [
       "                One           Two\n",
       "count  10000.000000  10000.000000\n",
       "mean       0.302664      0.299560\n",
       "std        0.155089      0.156065\n",
       "min        0.000000      0.000000\n",
       "25%        0.200000      0.200000\n",
       "50%        0.300000      0.285714\n",
       "75%        0.400000      0.400000\n",
       "max        1.000000      1.000000"
      ]
     },
     "execution_count": 4,
     "metadata": {},
     "output_type": "execute_result"
    }
   ],
   "source": [
    "pd.DataFrame({\"One\":hit_rate_1, \"Two\":hit_rate_2}).describe()"
   ]
  },
  {
   "cell_type": "markdown",
   "metadata": {},
   "source": [
    "## Likelihood\n",
    "\n",
    "For each prediction, compute the likelihood of the events, the product of density function evaluated at each point.  As ever, we really work with log likelihood, to avoid numerical errors.  We can then:\n",
    "\n",
    "- Compute the likelihood ratio, to see which prediction is closer.  This strongly favours model 1.\n",
    "- Normalise to give some absolute likelihood.  Model 1 again is favoured."
   ]
  },
  {
   "cell_type": "code",
   "execution_count": 5,
   "metadata": {
    "collapsed": true
   },
   "outputs": [],
   "source": [
    "def likelihood1(events):\n",
    "    return 0\n",
    "\n",
    "def likelihood2(events):\n",
    "    return np.sum(np.log(np.asarray(events) * 2))"
   ]
  },
  {
   "cell_type": "code",
   "execution_count": 6,
   "metadata": {
    "collapsed": false
   },
   "outputs": [],
   "source": [
    "ratios = []\n",
    "\n",
    "for _ in range(10000):\n",
    "    num_events = np.random.poisson(lam=10)\n",
    "    events = np.random.random(size=num_events)\n",
    "    log_ratio = likelihood1(events) - likelihood2(events)\n",
    "    ratios.append(log_ratio)"
   ]
  },
  {
   "cell_type": "code",
   "execution_count": 7,
   "metadata": {
    "collapsed": false
   },
   "outputs": [
    {
     "data": {
      "text/html": [
       "<div>\n",
       "<table border=\"1\" class=\"dataframe\">\n",
       "  <thead>\n",
       "    <tr style=\"text-align: right;\">\n",
       "      <th></th>\n",
       "      <th>0</th>\n",
       "    </tr>\n",
       "  </thead>\n",
       "  <tbody>\n",
       "    <tr>\n",
       "      <th>count</th>\n",
       "      <td>10000.000000</td>\n",
       "    </tr>\n",
       "    <tr>\n",
       "      <th>mean</th>\n",
       "      <td>3.063269</td>\n",
       "    </tr>\n",
       "    <tr>\n",
       "      <th>std</th>\n",
       "      <td>3.319015</td>\n",
       "    </tr>\n",
       "    <tr>\n",
       "      <th>min</th>\n",
       "      <td>-4.781459</td>\n",
       "    </tr>\n",
       "    <tr>\n",
       "      <th>25%</th>\n",
       "      <td>0.640241</td>\n",
       "    </tr>\n",
       "    <tr>\n",
       "      <th>50%</th>\n",
       "      <td>2.633811</td>\n",
       "    </tr>\n",
       "    <tr>\n",
       "      <th>75%</th>\n",
       "      <td>4.994303</td>\n",
       "    </tr>\n",
       "    <tr>\n",
       "      <th>max</th>\n",
       "      <td>20.325528</td>\n",
       "    </tr>\n",
       "  </tbody>\n",
       "</table>\n",
       "</div>"
      ],
      "text/plain": [
       "                  0\n",
       "count  10000.000000\n",
       "mean       3.063269\n",
       "std        3.319015\n",
       "min       -4.781459\n",
       "25%        0.640241\n",
       "50%        2.633811\n",
       "75%        4.994303\n",
       "max       20.325528"
      ]
     },
     "execution_count": 7,
     "metadata": {},
     "output_type": "execute_result"
    }
   ],
   "source": [
    "pd.DataFrame(ratios).describe()"
   ]
  },
  {
   "cell_type": "code",
   "execution_count": 8,
   "metadata": {
    "collapsed": true
   },
   "outputs": [],
   "source": [
    "one, two = [], []\n",
    "for _ in range(10000):\n",
    "    num_events = np.random.poisson(lam=10)\n",
    "    events = np.random.random(size=num_events)\n",
    "    if len(events) == 0:\n",
    "        continue\n",
    "    one.append( likelihood1(events) / len(events) )\n",
    "    two.append( likelihood2(events) / len(events) )"
   ]
  },
  {
   "cell_type": "code",
   "execution_count": 9,
   "metadata": {
    "collapsed": false
   },
   "outputs": [
    {
     "data": {
      "text/html": [
       "<div>\n",
       "<table border=\"1\" class=\"dataframe\">\n",
       "  <thead>\n",
       "    <tr style=\"text-align: right;\">\n",
       "      <th></th>\n",
       "      <th>one</th>\n",
       "      <th>two</th>\n",
       "    </tr>\n",
       "  </thead>\n",
       "  <tbody>\n",
       "    <tr>\n",
       "      <th>count</th>\n",
       "      <td>10000.0</td>\n",
       "      <td>10000.000000</td>\n",
       "    </tr>\n",
       "    <tr>\n",
       "      <th>mean</th>\n",
       "      <td>0.0</td>\n",
       "      <td>-0.302210</td>\n",
       "    </tr>\n",
       "    <tr>\n",
       "      <th>std</th>\n",
       "      <td>0.0</td>\n",
       "      <td>0.334594</td>\n",
       "    </tr>\n",
       "    <tr>\n",
       "      <th>min</th>\n",
       "      <td>0.0</td>\n",
       "      <td>-2.553526</td>\n",
       "    </tr>\n",
       "    <tr>\n",
       "      <th>25%</th>\n",
       "      <td>0.0</td>\n",
       "      <td>-0.492402</td>\n",
       "    </tr>\n",
       "    <tr>\n",
       "      <th>50%</th>\n",
       "      <td>0.0</td>\n",
       "      <td>-0.268450</td>\n",
       "    </tr>\n",
       "    <tr>\n",
       "      <th>75%</th>\n",
       "      <td>0.0</td>\n",
       "      <td>-0.069880</td>\n",
       "    </tr>\n",
       "    <tr>\n",
       "      <th>max</th>\n",
       "      <td>0.0</td>\n",
       "      <td>0.670229</td>\n",
       "    </tr>\n",
       "  </tbody>\n",
       "</table>\n",
       "</div>"
      ],
      "text/plain": [
       "           one           two\n",
       "count  10000.0  10000.000000\n",
       "mean       0.0     -0.302210\n",
       "std        0.0      0.334594\n",
       "min        0.0     -2.553526\n",
       "25%        0.0     -0.492402\n",
       "50%        0.0     -0.268450\n",
       "75%        0.0     -0.069880\n",
       "max        0.0      0.670229"
      ]
     },
     "execution_count": 9,
     "metadata": {},
     "output_type": "execute_result"
    }
   ],
   "source": [
    "pd.DataFrame({\"one\":one, \"two\":two}).describe()"
   ]
  },
  {
   "cell_type": "markdown",
   "metadata": {},
   "source": [
    "## KDE and mean squared error\n",
    "\n",
    "Use the events and KDE to estimate a \"real\" density, and compare this with the model by integrating the error.\n",
    "\n",
    "This again favours model 1 (smaller average error)."
   ]
  },
  {
   "cell_type": "code",
   "execution_count": 10,
   "metadata": {
    "collapsed": false
   },
   "outputs": [
    {
     "data": {
      "text/plain": [
       "[<matplotlib.lines.Line2D at 0x7f8df839efd0>]"
      ]
     },
     "execution_count": 10,
     "metadata": {},
     "output_type": "execute_result"
    },
    {
     "data": {
      "image/png": "[encoded data removed]",
      "text/plain": [
       "<matplotlib.figure.Figure at 0x7f8e0e389ef0>"
      ]
     },
     "metadata": {},
     "output_type": "display_data"
    }
   ],
   "source": [
    "events = np.random.random(size=10)\n",
    "kernel = scipy.stats.kde.gaussian_kde(events)\n",
    "\n",
    "fig, ax = plt.subplots(figsize=(8,6))\n",
    "ax.scatter(events, [0.1 for e in events])\n",
    "x = np.linspace(0, 1, 100)\n",
    "ax.plot(x, kernel(x))"
   ]
  },
  {
   "cell_type": "code",
   "execution_count": 11,
   "metadata": {
    "collapsed": true
   },
   "outputs": [],
   "source": [
    "def func1(x):\n",
    "    return 1\n",
    "\n",
    "def func2(x):\n",
    "    return 2 * x"
   ]
  },
  {
   "cell_type": "code",
   "execution_count": 12,
   "metadata": {
    "collapsed": false
   },
   "outputs": [],
   "source": [
    "errors = []\n",
    "for _ in range(10000):\n",
    "    num_events = np.random.poisson(lam=10)\n",
    "    events = np.random.random(size=num_events)\n",
    "    if len(events) < 2:\n",
    "        continue\n",
    "    kernel = scipy.stats.kde.gaussian_kde(events)\n",
    "    e1, _ = scipy.integrate.quad(lambda x : (kernel(x) - func1(x))**2, 0, 1)\n",
    "    e2, _ = scipy.integrate.quad(lambda x : (kernel(x) - func2(x))**2, 0, 1)\n",
    "    errors.append((e1, e2))"
   ]
  },
  {
   "cell_type": "code",
   "execution_count": 13,
   "metadata": {
    "collapsed": false
   },
   "outputs": [
    {
     "data": {
      "text/html": [
       "<div>\n",
       "<table border=\"1\" class=\"dataframe\">\n",
       "  <thead>\n",
       "    <tr style=\"text-align: right;\">\n",
       "      <th></th>\n",
       "      <th>one</th>\n",
       "      <th>two</th>\n",
       "    </tr>\n",
       "  </thead>\n",
       "  <tbody>\n",
       "    <tr>\n",
       "      <th>count</th>\n",
       "      <td>9996.000000</td>\n",
       "      <td>9996.000000</td>\n",
       "    </tr>\n",
       "    <tr>\n",
       "      <th>mean</th>\n",
       "      <td>0.146197</td>\n",
       "      <td>0.477317</td>\n",
       "    </tr>\n",
       "    <tr>\n",
       "      <th>std</th>\n",
       "      <td>0.276629</td>\n",
       "      <td>0.383686</td>\n",
       "    </tr>\n",
       "    <tr>\n",
       "      <th>min</th>\n",
       "      <td>0.031076</td>\n",
       "      <td>0.039300</td>\n",
       "    </tr>\n",
       "    <tr>\n",
       "      <th>25%</th>\n",
       "      <td>0.064386</td>\n",
       "      <td>0.275886</td>\n",
       "    </tr>\n",
       "    <tr>\n",
       "      <th>50%</th>\n",
       "      <td>0.092597</td>\n",
       "      <td>0.410025</td>\n",
       "    </tr>\n",
       "    <tr>\n",
       "      <th>75%</th>\n",
       "      <td>0.153332</td>\n",
       "      <td>0.588994</td>\n",
       "    </tr>\n",
       "    <tr>\n",
       "      <th>max</th>\n",
       "      <td>12.790906</td>\n",
       "      <td>14.769045</td>\n",
       "    </tr>\n",
       "  </tbody>\n",
       "</table>\n",
       "</div>"
      ],
      "text/plain": [
       "               one          two\n",
       "count  9996.000000  9996.000000\n",
       "mean      0.146197     0.477317\n",
       "std       0.276629     0.383686\n",
       "min       0.031076     0.039300\n",
       "25%       0.064386     0.275886\n",
       "50%       0.092597     0.410025\n",
       "75%       0.153332     0.588994\n",
       "max      12.790906    14.769045"
      ]
     },
     "execution_count": 13,
     "metadata": {},
     "output_type": "execute_result"
    }
   ],
   "source": [
    "pd.DataFrame({\"one\":[p[0] for p in errors], \"two\":[p[1] for p in errors]}).describe()"
   ]
  },
  {
   "cell_type": "markdown",
   "metadata": {},
   "source": [
    "# Nothing special about CSR\n",
    "\n",
    "Let's do the same, with the same models, but now \"ground truth\" will be that events are twice as likely in $[0,1/2]$ as opposed to $[1/2,1]$.\n",
    "\n",
    "The results are the same, except that now \"hit rate\" also favours model 1."
   ]
  },
  {
   "cell_type": "code",
   "execution_count": 14,
   "metadata": {
    "collapsed": false
   },
   "outputs": [
    {
     "data": {
      "image/png": "[encoded data removed]",
      "text/plain": [
       "<matplotlib.figure.Figure at 0x7f8dfaefbeb8>"
      ]
     },
     "metadata": {},
     "output_type": "display_data"
    }
   ],
   "source": [
    "def make_events(average_number):\n",
    "    num_events = np.random.poisson(lam=average_number)\n",
    "    events = np.random.random(size=num_events) * 1.5\n",
    "    mask = events < 1\n",
    "    events[mask] = events[mask] * 0.5\n",
    "    events[~mask] = events[~mask] - 0.5\n",
    "    return events\n",
    "\n",
    "plt.hist(make_events(100000), bins=np.linspace(0, 1, 20))\n",
    "None"
   ]
  },
  {
   "cell_type": "code",
   "execution_count": 15,
   "metadata": {
    "collapsed": false
   },
   "outputs": [
    {
     "data": {
      "text/html": [
       "<div>\n",
       "<table border=\"1\" class=\"dataframe\">\n",
       "  <thead>\n",
       "    <tr style=\"text-align: right;\">\n",
       "      <th></th>\n",
       "      <th>One</th>\n",
       "      <th>Two</th>\n",
       "    </tr>\n",
       "  </thead>\n",
       "  <tbody>\n",
       "    <tr>\n",
       "      <th>count</th>\n",
       "      <td>10000.000000</td>\n",
       "      <td>10000.000000</td>\n",
       "    </tr>\n",
       "    <tr>\n",
       "      <th>mean</th>\n",
       "      <td>0.302555</td>\n",
       "      <td>0.199724</td>\n",
       "    </tr>\n",
       "    <tr>\n",
       "      <th>std</th>\n",
       "      <td>0.160472</td>\n",
       "      <td>0.136016</td>\n",
       "    </tr>\n",
       "    <tr>\n",
       "      <th>min</th>\n",
       "      <td>0.000000</td>\n",
       "      <td>0.000000</td>\n",
       "    </tr>\n",
       "    <tr>\n",
       "      <th>25%</th>\n",
       "      <td>0.200000</td>\n",
       "      <td>0.100000</td>\n",
       "    </tr>\n",
       "    <tr>\n",
       "      <th>50%</th>\n",
       "      <td>0.294118</td>\n",
       "      <td>0.187500</td>\n",
       "    </tr>\n",
       "    <tr>\n",
       "      <th>75%</th>\n",
       "      <td>0.400000</td>\n",
       "      <td>0.285714</td>\n",
       "    </tr>\n",
       "    <tr>\n",
       "      <th>max</th>\n",
       "      <td>1.000000</td>\n",
       "      <td>1.000000</td>\n",
       "    </tr>\n",
       "  </tbody>\n",
       "</table>\n",
       "</div>"
      ],
      "text/plain": [
       "                One           Two\n",
       "count  10000.000000  10000.000000\n",
       "mean       0.302555      0.199724\n",
       "std        0.160472      0.136016\n",
       "min        0.000000      0.000000\n",
       "25%        0.200000      0.100000\n",
       "50%        0.294118      0.187500\n",
       "75%        0.400000      0.285714\n",
       "max        1.000000      1.000000"
      ]
     },
     "execution_count": 15,
     "metadata": {},
     "output_type": "execute_result"
    }
   ],
   "source": [
    "trials = 10000\n",
    "cells = 10\n",
    "coverage = 3\n",
    "\n",
    "hit_rate_1 = []\n",
    "hit_rate_2 = []\n",
    "for _ in range(trials):\n",
    "    events = make_events(10)\n",
    "    if len(events) == 0:\n",
    "        continue\n",
    "    pred1 = coverage1(cells, coverage)\n",
    "    pred2 = coverage2(cells, coverage)\n",
    "    hit_rate_1.append( score(events, cells, pred1) )\n",
    "    hit_rate_2.append( score(events, cells, pred2) )\n",
    "\n",
    "pd.DataFrame({\"One\":hit_rate_1, \"Two\":hit_rate_2}).describe()"
   ]
  },
  {
   "cell_type": "code",
   "execution_count": 16,
   "metadata": {
    "collapsed": false
   },
   "outputs": [
    {
     "data": {
      "text/html": [
       "<div>\n",
       "<table border=\"1\" class=\"dataframe\">\n",
       "  <thead>\n",
       "    <tr style=\"text-align: right;\">\n",
       "      <th></th>\n",
       "      <th>0</th>\n",
       "    </tr>\n",
       "  </thead>\n",
       "  <tbody>\n",
       "    <tr>\n",
       "      <th>count</th>\n",
       "      <td>10000.000000</td>\n",
       "    </tr>\n",
       "    <tr>\n",
       "      <th>mean</th>\n",
       "      <td>5.419622</td>\n",
       "    </tr>\n",
       "    <tr>\n",
       "      <th>std</th>\n",
       "      <td>3.777092</td>\n",
       "    </tr>\n",
       "    <tr>\n",
       "      <th>min</th>\n",
       "      <td>-3.657635</td>\n",
       "    </tr>\n",
       "    <tr>\n",
       "      <th>25%</th>\n",
       "      <td>2.688512</td>\n",
       "    </tr>\n",
       "    <tr>\n",
       "      <th>50%</th>\n",
       "      <td>4.904619</td>\n",
       "    </tr>\n",
       "    <tr>\n",
       "      <th>75%</th>\n",
       "      <td>7.595387</td>\n",
       "    </tr>\n",
       "    <tr>\n",
       "      <th>max</th>\n",
       "      <td>24.506569</td>\n",
       "    </tr>\n",
       "  </tbody>\n",
       "</table>\n",
       "</div>"
      ],
      "text/plain": [
       "                  0\n",
       "count  10000.000000\n",
       "mean       5.419622\n",
       "std        3.777092\n",
       "min       -3.657635\n",
       "25%        2.688512\n",
       "50%        4.904619\n",
       "75%        7.595387\n",
       "max       24.506569"
      ]
     },
     "execution_count": 16,
     "metadata": {},
     "output_type": "execute_result"
    }
   ],
   "source": [
    "ratios = []\n",
    "\n",
    "for _ in range(10000):\n",
    "    events = make_events(10)\n",
    "    log_ratio = likelihood1(events) - likelihood2(events)\n",
    "    ratios.append(log_ratio)\n",
    "    \n",
    "pd.DataFrame(ratios).describe()"
   ]
  },
  {
   "cell_type": "code",
   "execution_count": 17,
   "metadata": {
    "collapsed": false
   },
   "outputs": [
    {
     "data": {
      "text/html": [
       "<div>\n",
       "<table border=\"1\" class=\"dataframe\">\n",
       "  <thead>\n",
       "    <tr style=\"text-align: right;\">\n",
       "      <th></th>\n",
       "      <th>one</th>\n",
       "      <th>two</th>\n",
       "    </tr>\n",
       "  </thead>\n",
       "  <tbody>\n",
       "    <tr>\n",
       "      <th>count</th>\n",
       "      <td>9998.0</td>\n",
       "      <td>9998.000000</td>\n",
       "    </tr>\n",
       "    <tr>\n",
       "      <th>mean</th>\n",
       "      <td>0.0</td>\n",
       "      <td>-0.537126</td>\n",
       "    </tr>\n",
       "    <tr>\n",
       "      <th>std</th>\n",
       "      <td>0.0</td>\n",
       "      <td>0.354822</td>\n",
       "    </tr>\n",
       "    <tr>\n",
       "      <th>min</th>\n",
       "      <td>0.0</td>\n",
       "      <td>-2.881477</td>\n",
       "    </tr>\n",
       "    <tr>\n",
       "      <th>25%</th>\n",
       "      <td>0.0</td>\n",
       "      <td>-0.742671</td>\n",
       "    </tr>\n",
       "    <tr>\n",
       "      <th>50%</th>\n",
       "      <td>0.0</td>\n",
       "      <td>-0.500278</td>\n",
       "    </tr>\n",
       "    <tr>\n",
       "      <th>75%</th>\n",
       "      <td>0.0</td>\n",
       "      <td>-0.295465</td>\n",
       "    </tr>\n",
       "    <tr>\n",
       "      <th>max</th>\n",
       "      <td>0.0</td>\n",
       "      <td>0.440049</td>\n",
       "    </tr>\n",
       "  </tbody>\n",
       "</table>\n",
       "</div>"
      ],
      "text/plain": [
       "          one          two\n",
       "count  9998.0  9998.000000\n",
       "mean      0.0    -0.537126\n",
       "std       0.0     0.354822\n",
       "min       0.0    -2.881477\n",
       "25%       0.0    -0.742671\n",
       "50%       0.0    -0.500278\n",
       "75%       0.0    -0.295465\n",
       "max       0.0     0.440049"
      ]
     },
     "execution_count": 17,
     "metadata": {},
     "output_type": "execute_result"
    }
   ],
   "source": [
    "one, two = [], []\n",
    "for _ in range(10000):\n",
    "    events = make_events(10)\n",
    "    if len(events) == 0:\n",
    "        continue\n",
    "    one.append( likelihood1(events) / len(events) )\n",
    "    two.append( likelihood2(events) / len(events) )\n",
    "pd.DataFrame({\"one\":one, \"two\":two}).describe()"
   ]
  },
  {
   "cell_type": "code",
   "execution_count": 18,
   "metadata": {
    "collapsed": true
   },
   "outputs": [],
   "source": [
    "errors = []\n",
    "for _ in range(10000):\n",
    "    events = make_events(10)\n",
    "    if len(events) < 2:\n",
    "        continue\n",
    "    kernel = scipy.stats.kde.gaussian_kde(events)\n",
    "    e1, _ = scipy.integrate.quad(lambda x : (kernel(x) - func1(x))**2, 0, 1)\n",
    "    e2, _ = scipy.integrate.quad(lambda x : (kernel(x) - func2(x))**2, 0, 1)\n",
    "    errors.append((e1, e2))"
   ]
  },
  {
   "cell_type": "code",
   "execution_count": 19,
   "metadata": {
    "collapsed": false
   },
   "outputs": [
    {
     "data": {
      "text/html": [
       "<div>\n",
       "<table border=\"1\" class=\"dataframe\">\n",
       "  <thead>\n",
       "    <tr style=\"text-align: right;\">\n",
       "      <th></th>\n",
       "      <th>one</th>\n",
       "      <th>two</th>\n",
       "    </tr>\n",
       "  </thead>\n",
       "  <tbody>\n",
       "    <tr>\n",
       "      <th>count</th>\n",
       "      <td>9992.000000</td>\n",
       "      <td>9992.000000</td>\n",
       "    </tr>\n",
       "    <tr>\n",
       "      <th>mean</th>\n",
       "      <td>0.200730</td>\n",
       "      <td>0.762903</td>\n",
       "    </tr>\n",
       "    <tr>\n",
       "      <th>std</th>\n",
       "      <td>0.279527</td>\n",
       "      <td>0.461152</td>\n",
       "    </tr>\n",
       "    <tr>\n",
       "      <th>min</th>\n",
       "      <td>0.032237</td>\n",
       "      <td>0.054530</td>\n",
       "    </tr>\n",
       "    <tr>\n",
       "      <th>25%</th>\n",
       "      <td>0.076875</td>\n",
       "      <td>0.481650</td>\n",
       "    </tr>\n",
       "    <tr>\n",
       "      <th>50%</th>\n",
       "      <td>0.125253</td>\n",
       "      <td>0.669875</td>\n",
       "    </tr>\n",
       "    <tr>\n",
       "      <th>75%</th>\n",
       "      <td>0.229443</td>\n",
       "      <td>0.936467</td>\n",
       "    </tr>\n",
       "    <tr>\n",
       "      <th>max</th>\n",
       "      <td>10.078522</td>\n",
       "      <td>10.682809</td>\n",
       "    </tr>\n",
       "  </tbody>\n",
       "</table>\n",
       "</div>"
      ],
      "text/plain": [
       "               one          two\n",
       "count  9992.000000  9992.000000\n",
       "mean      0.200730     0.762903\n",
       "std       0.279527     0.461152\n",
       "min       0.032237     0.054530\n",
       "25%       0.076875     0.481650\n",
       "50%       0.125253     0.669875\n",
       "75%       0.229443     0.936467\n",
       "max      10.078522    10.682809"
      ]
     },
     "execution_count": 19,
     "metadata": {},
     "output_type": "execute_result"
    }
   ],
   "source": [
    "pd.DataFrame({\"one\":[p[0] for p in errors], \"two\":[p[1] for p in errors]}).describe()"
   ]
  },
  {
   "cell_type": "markdown",
   "metadata": {},
   "source": [
    "# Finally...\n",
    "\n",
    "Flip it about, now \"ground truth\" will be that events are twice as likely in $[1/2,1]$ as opposed to $[0,1/2]$.\n",
    "\n",
    "Now hit rate favours model 2.  Likelihood favours (weakly) model 1.  KDE favours model 1."
   ]
  },
  {
   "cell_type": "code",
   "execution_count": 20,
   "metadata": {
    "collapsed": false
   },
   "outputs": [
    {
     "data": {
      "image/png": "[encoded data removed]",
      "text/plain": [
       "<matplotlib.figure.Figure at 0x7f8df8021978>"
      ]
     },
     "metadata": {},
     "output_type": "display_data"
    }
   ],
   "source": [
    "def make_events1(average_number):\n",
    "    return 1 - make_events(average_number)\n",
    "\n",
    "plt.hist(make_events1(100000), bins=np.linspace(0, 1, 20))\n",
    "None"
   ]
  },
  {
   "cell_type": "code",
   "execution_count": 21,
   "metadata": {
    "collapsed": false
   },
   "outputs": [
    {
     "data": {
      "text/html": [
       "<div>\n",
       "<table border=\"1\" class=\"dataframe\">\n",
       "  <thead>\n",
       "    <tr style=\"text-align: right;\">\n",
       "      <th></th>\n",
       "      <th>One</th>\n",
       "      <th>Two</th>\n",
       "    </tr>\n",
       "  </thead>\n",
       "  <tbody>\n",
       "    <tr>\n",
       "      <th>count</th>\n",
       "      <td>9999.000000</td>\n",
       "      <td>9999.000000</td>\n",
       "    </tr>\n",
       "    <tr>\n",
       "      <th>mean</th>\n",
       "      <td>0.299005</td>\n",
       "      <td>0.401429</td>\n",
       "    </tr>\n",
       "    <tr>\n",
       "      <th>std</th>\n",
       "      <td>0.161717</td>\n",
       "      <td>0.163036</td>\n",
       "    </tr>\n",
       "    <tr>\n",
       "      <th>min</th>\n",
       "      <td>0.000000</td>\n",
       "      <td>0.000000</td>\n",
       "    </tr>\n",
       "    <tr>\n",
       "      <th>25%</th>\n",
       "      <td>0.181818</td>\n",
       "      <td>0.285714</td>\n",
       "    </tr>\n",
       "    <tr>\n",
       "      <th>50%</th>\n",
       "      <td>0.285714</td>\n",
       "      <td>0.400000</td>\n",
       "    </tr>\n",
       "    <tr>\n",
       "      <th>75%</th>\n",
       "      <td>0.400000</td>\n",
       "      <td>0.500000</td>\n",
       "    </tr>\n",
       "    <tr>\n",
       "      <th>max</th>\n",
       "      <td>1.000000</td>\n",
       "      <td>1.000000</td>\n",
       "    </tr>\n",
       "  </tbody>\n",
       "</table>\n",
       "</div>"
      ],
      "text/plain": [
       "               One          Two\n",
       "count  9999.000000  9999.000000\n",
       "mean      0.299005     0.401429\n",
       "std       0.161717     0.163036\n",
       "min       0.000000     0.000000\n",
       "25%       0.181818     0.285714\n",
       "50%       0.285714     0.400000\n",
       "75%       0.400000     0.500000\n",
       "max       1.000000     1.000000"
      ]
     },
     "execution_count": 21,
     "metadata": {},
     "output_type": "execute_result"
    }
   ],
   "source": [
    "trials = 10000\n",
    "cells = 10\n",
    "coverage = 3\n",
    "\n",
    "hit_rate_1 = []\n",
    "hit_rate_2 = []\n",
    "for _ in range(trials):\n",
    "    events = make_events1(10)\n",
    "    if len(events) == 0:\n",
    "        continue\n",
    "    pred1 = coverage1(cells, coverage)\n",
    "    pred2 = coverage2(cells, coverage)\n",
    "    hit_rate_1.append( score(events, cells, pred1) )\n",
    "    hit_rate_2.append( score(events, cells, pred2) )\n",
    "\n",
    "pd.DataFrame({\"One\":hit_rate_1, \"Two\":hit_rate_2}).describe()"
   ]
  },
  {
   "cell_type": "code",
   "execution_count": 22,
   "metadata": {
    "collapsed": false
   },
   "outputs": [
    {
     "data": {
      "text/html": [
       "<div>\n",
       "<table border=\"1\" class=\"dataframe\">\n",
       "  <thead>\n",
       "    <tr style=\"text-align: right;\">\n",
       "      <th></th>\n",
       "      <th>0</th>\n",
       "    </tr>\n",
       "  </thead>\n",
       "  <tbody>\n",
       "    <tr>\n",
       "      <th>count</th>\n",
       "      <td>10000.000000</td>\n",
       "    </tr>\n",
       "    <tr>\n",
       "      <th>mean</th>\n",
       "      <td>0.744658</td>\n",
       "    </tr>\n",
       "    <tr>\n",
       "      <th>std</th>\n",
       "      <td>2.803817</td>\n",
       "    </tr>\n",
       "    <tr>\n",
       "      <th>min</th>\n",
       "      <td>-7.572446</td>\n",
       "    </tr>\n",
       "    <tr>\n",
       "      <th>25%</th>\n",
       "      <td>-1.216704</td>\n",
       "    </tr>\n",
       "    <tr>\n",
       "      <th>50%</th>\n",
       "      <td>0.316195</td>\n",
       "    </tr>\n",
       "    <tr>\n",
       "      <th>75%</th>\n",
       "      <td>2.285786</td>\n",
       "    </tr>\n",
       "    <tr>\n",
       "      <th>max</th>\n",
       "      <td>18.178649</td>\n",
       "    </tr>\n",
       "  </tbody>\n",
       "</table>\n",
       "</div>"
      ],
      "text/plain": [
       "                  0\n",
       "count  10000.000000\n",
       "mean       0.744658\n",
       "std        2.803817\n",
       "min       -7.572446\n",
       "25%       -1.216704\n",
       "50%        0.316195\n",
       "75%        2.285786\n",
       "max       18.178649"
      ]
     },
     "execution_count": 22,
     "metadata": {},
     "output_type": "execute_result"
    }
   ],
   "source": [
    "ratios = []\n",
    "\n",
    "for _ in range(10000):\n",
    "    events = make_events1(10)\n",
    "    log_ratio = likelihood1(events) - likelihood2(events)\n",
    "    ratios.append(log_ratio)\n",
    "    \n",
    "pd.DataFrame(ratios).describe()"
   ]
  },
  {
   "cell_type": "code",
   "execution_count": 23,
   "metadata": {
    "collapsed": false
   },
   "outputs": [
    {
     "data": {
      "text/html": [
       "<div>\n",
       "<table border=\"1\" class=\"dataframe\">\n",
       "  <thead>\n",
       "    <tr style=\"text-align: right;\">\n",
       "      <th></th>\n",
       "      <th>one</th>\n",
       "      <th>two</th>\n",
       "    </tr>\n",
       "  </thead>\n",
       "  <tbody>\n",
       "    <tr>\n",
       "      <th>count</th>\n",
       "      <td>10000.0</td>\n",
       "      <td>10000.000000</td>\n",
       "    </tr>\n",
       "    <tr>\n",
       "      <th>mean</th>\n",
       "      <td>0.0</td>\n",
       "      <td>-0.080728</td>\n",
       "    </tr>\n",
       "    <tr>\n",
       "      <th>std</th>\n",
       "      <td>0.0</td>\n",
       "      <td>0.301639</td>\n",
       "    </tr>\n",
       "    <tr>\n",
       "      <th>min</th>\n",
       "      <td>0.0</td>\n",
       "      <td>-2.402754</td>\n",
       "    </tr>\n",
       "    <tr>\n",
       "      <th>25%</th>\n",
       "      <td>0.0</td>\n",
       "      <td>-0.247010</td>\n",
       "    </tr>\n",
       "    <tr>\n",
       "      <th>50%</th>\n",
       "      <td>0.0</td>\n",
       "      <td>-0.038585</td>\n",
       "    </tr>\n",
       "    <tr>\n",
       "      <th>75%</th>\n",
       "      <td>0.0</td>\n",
       "      <td>0.133735</td>\n",
       "    </tr>\n",
       "    <tr>\n",
       "      <th>max</th>\n",
       "      <td>0.0</td>\n",
       "      <td>0.602009</td>\n",
       "    </tr>\n",
       "  </tbody>\n",
       "</table>\n",
       "</div>"
      ],
      "text/plain": [
       "           one           two\n",
       "count  10000.0  10000.000000\n",
       "mean       0.0     -0.080728\n",
       "std        0.0      0.301639\n",
       "min        0.0     -2.402754\n",
       "25%        0.0     -0.247010\n",
       "50%        0.0     -0.038585\n",
       "75%        0.0      0.133735\n",
       "max        0.0      0.602009"
      ]
     },
     "execution_count": 23,
     "metadata": {},
     "output_type": "execute_result"
    }
   ],
   "source": [
    "one, two = [], []\n",
    "for _ in range(10000):\n",
    "    events = make_events1(10)\n",
    "    if len(events) == 0:\n",
    "        continue\n",
    "    one.append( likelihood1(events) / len(events) )\n",
    "    two.append( likelihood2(events) / len(events) )\n",
    "pd.DataFrame({\"one\":one, \"two\":two}).describe()"
   ]
  },
  {
   "cell_type": "code",
   "execution_count": 24,
   "metadata": {
    "collapsed": true
   },
   "outputs": [],
   "source": [
    "errors = []\n",
    "for _ in range(10000):\n",
    "    events = make_events1(10)\n",
    "    if len(events) < 2:\n",
    "        continue\n",
    "    kernel = scipy.stats.kde.gaussian_kde(events)\n",
    "    e1, _ = scipy.integrate.quad(lambda x : (kernel(x) - func1(x))**2, 0, 1)\n",
    "    e2, _ = scipy.integrate.quad(lambda x : (kernel(x) - func2(x))**2, 0, 1)\n",
    "    errors.append((e1, e2))"
   ]
  },
  {
   "cell_type": "code",
   "execution_count": 26,
   "metadata": {
    "collapsed": false
   },
   "outputs": [
    {
     "data": {
      "text/html": [
       "<div>\n",
       "<table border=\"1\" class=\"dataframe\">\n",
       "  <thead>\n",
       "    <tr style=\"text-align: right;\">\n",
       "      <th></th>\n",
       "      <th>one</th>\n",
       "      <th>two</th>\n",
       "    </tr>\n",
       "  </thead>\n",
       "  <tbody>\n",
       "    <tr>\n",
       "      <th>count</th>\n",
       "      <td>9994.000000</td>\n",
       "      <td>9994.000000</td>\n",
       "    </tr>\n",
       "    <tr>\n",
       "      <th>mean</th>\n",
       "      <td>0.201497</td>\n",
       "      <td>0.303939</td>\n",
       "    </tr>\n",
       "    <tr>\n",
       "      <th>std</th>\n",
       "      <td>0.281399</td>\n",
       "      <td>0.268947</td>\n",
       "    </tr>\n",
       "    <tr>\n",
       "      <th>min</th>\n",
       "      <td>0.031006</td>\n",
       "      <td>0.037054</td>\n",
       "    </tr>\n",
       "    <tr>\n",
       "      <th>25%</th>\n",
       "      <td>0.076810</td>\n",
       "      <td>0.160567</td>\n",
       "    </tr>\n",
       "    <tr>\n",
       "      <th>50%</th>\n",
       "      <td>0.124121</td>\n",
       "      <td>0.251117</td>\n",
       "    </tr>\n",
       "    <tr>\n",
       "      <th>75%</th>\n",
       "      <td>0.226164</td>\n",
       "      <td>0.379557</td>\n",
       "    </tr>\n",
       "    <tr>\n",
       "      <th>max</th>\n",
       "      <td>13.151977</td>\n",
       "      <td>13.420936</td>\n",
       "    </tr>\n",
       "  </tbody>\n",
       "</table>\n",
       "</div>"
      ],
      "text/plain": [
       "               one          two\n",
       "count  9994.000000  9994.000000\n",
       "mean      0.201497     0.303939\n",
       "std       0.281399     0.268947\n",
       "min       0.031006     0.037054\n",
       "25%       0.076810     0.160567\n",
       "50%       0.124121     0.251117\n",
       "75%       0.226164     0.379557\n",
       "max      13.151977    13.420936"
      ]
     },
     "execution_count": 26,
     "metadata": {},
     "output_type": "execute_result"
    }
   ],
   "source": [
    "pd.DataFrame({\"one\":[p[0] for p in errors], \"two\":[p[1] for p in errors]}).describe()"
   ]
  },
  {
   "cell_type": "code",
   "execution_count": null,
   "metadata": {
    "collapsed": true
   },
   "outputs": [],
   "source": []
  }
 ],
 "metadata": {
  "kernelspec": {
   "display_name": "Python 3",
   "language": "python",
   "name": "python3"
  },
  "language_info": {
   "codemirror_mode": {
    "name": "ipython",
    "version": 3
   },
   "file_extension": ".py",
   "mimetype": "text/x-python",
   "name": "python",
   "nbconvert_exporter": "python",
   "pygments_lexer": "ipython3",
   "version": "3.6.0"
  }
 },
 "nbformat": 4,
 "nbformat_minor": 2
}
