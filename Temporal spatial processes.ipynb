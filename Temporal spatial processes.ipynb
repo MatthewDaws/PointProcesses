{
 "cells": [
  {
   "cell_type": "markdown",
   "metadata": {
    "collapsed": true
   },
   "source": [
    "# Marked processes #\n",
    "\n",
    "We shall be interested in spatial processes which occur in time.\n",
    "\n",
    "- For example, we might wish to model a self-exciting process where events occur at a location in (2 or 3 dimensional) space, and the \"offspring\" events show a clustering behaviour close to the parent event.\n",
    "\n",
    "The standard way of treating such a process is via \"marks\".  We start with a temporal process as already discussed, and to each event we also associate a \"mark\" from a \"mark space\".\n",
    "\n",
    "- Our mark space will be $\\mathbb R^2$, or a subset thereof, i.e. a 2 dimensional point in space.\n",
    "- Marks can also be discrete, for example to classify events into a number of different types."
   ]
  },
  {
   "cell_type": "markdown",
   "metadata": {},
   "source": [
    "We shall consider a restricted setup.  Marks may occur in a \"mark space\" $M$ (probably $M\\subseteq \\mathbb R^2$).\n",
    "\n",
    "- Immigrants will have independently chosen marks, say with density $\\gamma(\\kappa,t)$.\n",
    "- The immigrant intensity may vary with time, $\\mu(t)$.\n",
    "- Offspring intensity is $\\alpha(\\kappa) \\beta(t,\\kappa)$ where $\\alpha$ is the \"total intensity\" depending on the mark, and $\\beta$ is taken to be a normalised intensity, depending on time and the mark.\n",
    "- The offspring marks are independent and only depend upon the time and mark of the parent.\n",
    "\n",
    "Thus the total intensity function is\n",
    "$$ \\lambda^*(t) = \\mu(t) + \\sum_{t_i < t} \\alpha(\\kappa_i) \\beta(t-t_i,\\kappa_i). $$"
   ]
  },
  {
   "cell_type": "markdown",
   "metadata": {},
   "source": [
    "An example of an ETAS (epidemic type aftershock) model has mark space consisting of triples $\\kappa=(m,x,y)$ where $m>0$ is the \"magnitude\" of the event, and $(x,y)$ are coordinates in a window $W$.\n",
    "\n",
    "- $\\mu(t) = \\mu_1$ for $t\\geq 0$.  So background intensity is constant.\n",
    "- $\\alpha(\\kappa) = \\alpha_1 e^{m \\alpha_2}$.  So the total intensity is exponential in the magnitude.\n",
    "- $\\beta(t,\\kappa) = \\beta(t)$ is some decaying function in $t$.  For example, a power law\n",
    "$$ \\beta(t) = \\frac{\\beta_2}{\\beta_1} \\Big( 1+\\frac{t}{\\beta_1} \\Big)^{-\\beta_2-1} $$\n",
    "where we scale by $\\beta_1$, and decay at rate $\\beta_2$, and normalise.  Notice that this example is independant of the mark.\n",
    "- For immigrants we have mark density $\\gamma_1 e^{-\\gamma_1 m} |W|^{-1}$ for $(x,y)\\in W$.  So the coordinates of events are uniform in $W$, and the magnitude follows an exponential distribution.\n",
    "- For offspring, we have a more complicated mark density:\n",
    "$$ \\gamma(\\kappa | t, (t_p,\\kappa_p)) = \\gamma_1 e^{-\\gamma_1 m} \\frac{1}{2\\pi\\gamma_2^2}\n",
    "\\exp\\Big( - \\frac{\\| (x,y) - (x_p,y_p) \\|^2}{2\\gamma_2^2} \\Big) $$\n",
    "where the parent event occurred at time $t_p$ with mark $\\kappa_p$.  Thus the magnitude continues to follow an exponential distribution, but the location of the \"aftershock\" follows a Gaussian distribution centred on the location of the parent event.\n",
    "\n",
    "Here we have followed [Rasmussen, \"Bayesian Inference for Hawkes Processes\"](https://doi.org/10.1007/s11009-011-9272-5)."
   ]
  },
  {
   "cell_type": "markdown",
   "metadata": {},
   "source": [
    "This approach via \"marks\" may seem complicated, but it allows us to easily adapt the simulation procedure from the unmarked case, by simply adding in the marks.\n",
    "\n",
    "Let us consider a one dimensional mark space, which is easier to visualise.\n",
    "\n",
    "- $\\mu(t) = \\mu$\n",
    "- $\\alpha(\\kappa)=\\alpha$\n",
    "- $\\beta(t,\\kappa) = (1+t)^{-2}$\n",
    "- Immigrants will have mark uniformly chosen in $[0,1]$\n",
    "- Offspring have mark density following a Gaussian centred on the parent location, say with variance $\\sigma^2$."
   ]
  },
  {
   "cell_type": "code",
   "execution_count": 235,
   "metadata": {
    "collapsed": true
   },
   "outputs": [],
   "source": [
    "%matplotlib inline\n",
    "import numpy as np\n",
    "import matplotlib.pyplot as plt\n",
    "import scipy.stats\n",
    "import utils"
   ]
  },
  {
   "cell_type": "code",
   "execution_count": 304,
   "metadata": {
    "collapsed": false
   },
   "outputs": [
    {
     "data": {
      "image/png": "[encoded data removed]",
      "text/plain": [
       "<matplotlib.figure.Figure at 0x7f7379025e10>"
      ]
     },
     "metadata": {},
     "output_type": "display_data"
    }
   ],
   "source": [
    "from collections import namedtuple\n",
    "Event = namedtuple(\"Event\", [\"t\", \"loc\"])\n",
    "\n",
    "mu = 0.1\n",
    "alpha = 1\n",
    "sigma = 0.01\n",
    "\n",
    "def sort_with_causes(points, caused_by):\n",
    "    \"\"\"Sorts `points` in time order, and maintains caused by information\"\"\"\n",
    "    # caused_by[i] = j<i if i caused by j, or i if i background\n",
    "    tagged = list(enumerate(points))\n",
    "    tagged.sort(key = lambda pair : pair[1].t)\n",
    "    new_caused_by = []\n",
    "    for old_index, event in tagged:\n",
    "        old_cause_index = caused_by[old_index]\n",
    "        new_cause_index,_ = next(x for x in enumerate(tagged) if x[1][0] == old_cause_index)\n",
    "        new_caused_by.append(new_cause_index)\n",
    "    events = [x[1] for x in tagged]\n",
    "    return events, new_caused_by\n",
    "\n",
    "def simulate_sub_process(parent : Event):\n",
    "    points = []\n",
    "    t = 0\n",
    "    while True:\n",
    "        t += np.random.exponential()\n",
    "        if t >= alpha:\n",
    "            return points\n",
    "        loc = np.random.normal(loc=parent.loc, scale=sigma)\n",
    "        points.append(Event(parent.t + t / (alpha - t), loc))\n",
    "    \n",
    "def simulate(window_size=100):\n",
    "    backgrounds = utils.sample_poisson_process(window_size, 1/mu)\n",
    "    backgrounds = [Event(t, np.random.uniform()) for t in backgrounds]\n",
    "    points = list(backgrounds)\n",
    "    caused_by = [ i for i in range(len(points)) ]\n",
    "    to_process = [(i,p) for i, p in enumerate(points)]\n",
    "    while len(to_process) > 0:\n",
    "        (index, next_point) = to_process.pop()\n",
    "        for event in simulate_sub_process(next_point):\n",
    "            if event.t < window_size:\n",
    "                points.append(event)\n",
    "                caused_by.append(index)\n",
    "                to_process.append((len(points) - 1,event))\n",
    "    points, caused_by = sort_with_causes(points, caused_by)\n",
    "    return points, backgrounds, caused_by\n",
    "\n",
    "points, backgrounds, caused_by = simulate()\n",
    "width, _ = utils.slim_aspect()\n",
    "fig, ax = plt.subplots(nrows=1, ncols=1, figsize=(width,7))\n",
    "ax.set(xlim=[0,100], ylim=[-0.1,1.1], title=\"1D ETAS simulation\")\n",
    "_ = ax.scatter(x=[e.t for e in points], y=[e.loc for e in points], color=\"blue\", marker=\"+\")\n",
    "_ = ax.scatter(x=[e.t for e in backgrounds], y=[e.loc for e in backgrounds], color=\"black\")"
   ]
  },
  {
   "cell_type": "markdown",
   "metadata": {},
   "source": [
    "In this example, we have set the background rate to be low, and the mark distribution of offspring to be tightly bound to the location of the parent.  This allows us to visualise how an immigrant sets off a chain of \"aftershocks\" which spread out slowly in space."
   ]
  },
  {
   "cell_type": "markdown",
   "metadata": {},
   "source": [
    "# Model extraction #\n",
    "\n",
    "Let us start by assuming we know the form, and parameters, of the distributions.  We aim then to classify points as \"background\" or \"triggered by another point\".  Let us consider a more \"bundled\" way to write the conditional intensity:\n",
    "\n",
    "$$ \\lambda^*(t,x) = \\mu(t,x) + \\sum_{t_i<t} g(t-t_i,x-x_i) $$\n",
    "\n",
    "In our case, we know everything:\n",
    "\\begin{align*}\n",
    "= \\mu\\chi_{[0,1]}(x) + \\alpha \\sum_{t_i<t} \\big(1+(t-t_i)\\big)^{-2} \n",
    "   \\frac{1}{\\sqrt{2\\pi \\sigma^2}} \\exp\\Big( -\\frac{(x-x_i)^2}{2\\sigma^2} \\Big)\n",
    "\\end{align*}\n",
    "\n",
    "We encode the event data into a matrix $(p_{i,j})$ where $p_{i,j}$ is the probability that event $i$ triggered event $j$, for $i<j$; $p_{i,i}$ is the probability that event $i$ is a \"background\" event, and $p_{i,j}=0$ for $i>j$.  Given our simplified form, we have that\n",
    "$$ p_{i,i} \\lambda^*(t_i,x_i) = \\mu(t_i,x_i), \\quad\n",
    "p_{i,j} \\lambda^*(t_i,x_i) = g(t_j-t_i, x_j-x_i). $$"
   ]
  },
  {
   "cell_type": "code",
   "execution_count": 305,
   "metadata": {
    "collapsed": false
   },
   "outputs": [],
   "source": [
    "def mu_func(t, x, mu):\n",
    "    return mu * (x>=0) * (x<=1)\n",
    "\n",
    "def g_func(dt, dx, alpha, sigma):\n",
    "    beta = (1 + dt)**(-2)\n",
    "    beta_x = np.exp(-0.5 * (dx/sigma)**2) / np.sqrt(2*np.pi*sigma*sigma)\n",
    "    return alpha * beta * beta_x"
   ]
  },
  {
   "cell_type": "code",
   "execution_count": 306,
   "metadata": {
    "collapsed": false
   },
   "outputs": [],
   "source": [
    "def make_probability_matrix(points, mu, alpha, sigma):\n",
    "    p_matrix = np.zeros((len(points), len(points)))\n",
    "    for i, point in enumerate(points):\n",
    "        p_matrix[i][i] = mu_func(point.t, point.loc, mu)\n",
    "        for j in range(i):\n",
    "            j_point = points[j]\n",
    "            p_matrix[j][i] = g_func(point.t - j_point.t, point.loc - j_point.loc, alpha, sigma)\n",
    "\n",
    "    column_sums = np.sum(p_matrix, axis=0)\n",
    "    p_matrix /= column_sums\n",
    "    return p_matrix"
   ]
  },
  {
   "cell_type": "markdown",
   "metadata": {},
   "source": [
    "Using the matrix of probabilities, we can estimate which events were background events.  Here we simply use a maximum likelihood estimate."
   ]
  },
  {
   "cell_type": "code",
   "execution_count": 307,
   "metadata": {
    "collapsed": false
   },
   "outputs": [],
   "source": [
    "p_matrix = make_probability_matrix(points, mu, alpha, sigma)\n",
    "percentage_array = (p_matrix*100+0.5).astype(int)\n",
    "max_index = [ np.argmax(percentage_array[:,i]) for i in range(len(points)) ]\n",
    "\n",
    "background_points, triggered_points = [], []\n",
    "for i, p in enumerate(points):\n",
    "    if max_index[i] == i:\n",
    "        background_points.append(p)\n",
    "    else:\n",
    "        triggered_points.append(p)"
   ]
  },
  {
   "cell_type": "code",
   "execution_count": 308,
   "metadata": {
    "collapsed": false,
    "scrolled": true
   },
   "outputs": [
    {
     "data": {
      "image/png": "[encoded data removed]",
      "text/plain": [
       "<matplotlib.figure.Figure at 0x7f7378e939e8>"
      ]
     },
     "metadata": {},
     "output_type": "display_data"
    }
   ],
   "source": [
    "fig, ax = plt.subplots(nrows=1, ncols=2, figsize=(width,5))\n",
    "\n",
    "ax[0].set(xlim=[0,100], ylim=[-0.1,1.1], title=\"Actual data\")\n",
    "_ = ax[0].scatter(x=[e.t for e in points], y=[e.loc for e in points], color=\"blue\", marker=\"+\")\n",
    "_ = ax[0].scatter(x=[e.t for e in backgrounds], y=[e.loc for e in backgrounds], color=\"black\", marker=\"o\")\n",
    "\n",
    "ax[1].set(xlim=[0,100], ylim=[-0.1,1.1], title=\"Inferred background events\")\n",
    "_ = ax[1].scatter(x=[e.t for e in triggered_points], y=[e.loc for e in triggered_points], color=\"blue\", marker=\"+\")\n",
    "_ = ax[1].scatter(x=[e.t for e in background_points], y=[e.loc for e in background_points], color=\"black\", marker=\"o\")"
   ]
  },
  {
   "cell_type": "markdown",
   "metadata": {},
   "source": [
    "*TODO:* These keep changing, of course...\n",
    "\n",
    "I think these plots are intuitively explainable:\n",
    "\n",
    "- We miss a background event at time 40, but it fell in the middle of a clump of triggered events.\n",
    "- Three triggered event at time circa 70 are classified as background-- but they look like unlikely events, so this seems plausible."
   ]
  },
  {
   "cell_type": "markdown",
   "metadata": {},
   "source": [
    "# Iterative approximation for parametric distributions #\n",
    "\n",
    "Suppose now we do not know the parameters $\\mu, \\alpha$ and $\\sigma$.  We take an iterative, monte carlo approach.\n",
    "\n",
    "1. Take an initial \"guess\" of the parameters\n",
    "2. Use these to form $\\mu$ and $g$ and hence form the matrix $p$.\n",
    "3. For each event, using the probabilities from the matrix, randomly decide if the event is background, or assign it to a \"triggering\" event.\n",
    "4. Use the background events to estimate the parameter $\\mu$ (e.g. via MLE) and similarly use the triggered events to estimate $\\alpha, \\sigma$.\n",
    "\n",
    "See below for calculations of what the MLEs are."
   ]
  },
  {
   "cell_type": "code",
   "execution_count": 309,
   "metadata": {
    "collapsed": false
   },
   "outputs": [],
   "source": [
    "def compute_backgrounds_deltas(causes, points):\n",
    "    backgrounds, trigger_deltas = [], []\n",
    "    causes = sample_causality(p_matrix)\n",
    "    for i, p in enumerate(points):\n",
    "        c = causes[i]\n",
    "        if c == i:\n",
    "            backgrounds.append(p)\n",
    "        else:\n",
    "            tp = points[c]\n",
    "            delta = Event(p.t - tp.t, p.loc - tp.loc)\n",
    "            trigger_deltas.append(delta)\n",
    "    return backgrounds, trigger_deltas\n",
    "\n",
    "def make_estimates(causes, points):\n",
    "    \"\"\"Returns MLEs for mu, alpha and sigma.\"\"\"\n",
    "    backgrounds, trigger_deltas = compute_backgrounds_deltas(causes, points)\n",
    "    #background_event_times = np.array([e.t for e in backgrounds])\n",
    "    #background_event_time_deltas = background_event_times[1:] - background_event_times[:-1]\n",
    "    #mu = 1 / np.mean(background_event_time_deltas)\n",
    "    window_size = 100\n",
    "    mu = len(backgrounds) / window_size\n",
    "    \n",
    "    space_points = [e.loc for e in trigger_deltas]\n",
    "    sigma = np.std(space_points, ddof=1)\n",
    "    \n",
    "    # Biased...\n",
    "    counts = np.empty(len(causes) - 1, dtype=np.int32)\n",
    "    for i in range(len(causes) - 1):\n",
    "        counts[i] = sum(c==i for c in causes[i+1:])\n",
    "    alpha = np.mean(counts)\n",
    "    \n",
    "    return mu, alpha, sigma"
   ]
  },
  {
   "cell_type": "code",
   "execution_count": 314,
   "metadata": {
    "collapsed": true
   },
   "outputs": [],
   "source": [
    "def sample_causality(p_matrix):\n",
    "    \"\"\"Returns a list where entry i is the j<i which caused i, or i if i is background\"\"\"\n",
    "    number_points = p_matrix.shape[0]\n",
    "    causes = np.empty(number_points, dtype=int)\n",
    "    for i in range(number_points):\n",
    "        choices = list(range(i+1))\n",
    "        probs = p_matrix[:i+1, i]\n",
    "        c = np.random.choice(choices, p=probs)\n",
    "        causes[i] = c\n",
    "    return causes"
   ]
  },
  {
   "cell_type": "markdown",
   "metadata": {},
   "source": [
    "If we use the _actual_ causality data, and the real parameters to build the probability matrix, then the estimated parameters look as we expect: $\\sigma$ is accurate, $\\mu$ tends to vary (as the number of background events is small-- our window is too small given the real value of $\\mu$) and $\\alpha$ tends to be a slight under estimate.  (As $\\alpha = 1$ the number of triggered events, per trigger, is small; however, the \"self-exciting\" nature of the process means that one background event can, in totality, trigger a lot of subsequence events)."
   ]
  },
  {
   "cell_type": "code",
   "execution_count": 318,
   "metadata": {
    "collapsed": false
   },
   "outputs": [
    {
     "data": {
      "text/plain": [
       "(0.11, 0.930379746835443, 0.0095279324497049758)"
      ]
     },
     "execution_count": 318,
     "metadata": {},
     "output_type": "execute_result"
    }
   ],
   "source": [
    "p_matrix = make_probability_matrix(points, mu, alpha, sigma)\n",
    "mu_e, alpha_e, sigma_e = make_estimates(caused_by, points)\n",
    "mu_e, alpha_e, sigma_e"
   ]
  },
  {
   "cell_type": "markdown",
   "metadata": {},
   "source": [
    "If we feed in the real values, we get close to what we started with, which is good."
   ]
  },
  {
   "cell_type": "code",
   "execution_count": 319,
   "metadata": {
    "collapsed": false
   },
   "outputs": [
    {
     "data": {
      "text/plain": [
       "(0.18, 0.91772151898734178, 0.0090528037614543803)"
      ]
     },
     "execution_count": 319,
     "metadata": {},
     "output_type": "execute_result"
    }
   ],
   "source": [
    "p_matrix = make_probability_matrix(points, mu, alpha, sigma)\n",
    "causes = sample_causality(p_matrix)\n",
    "mu_e, alpha_e, sigma_e = make_estimates(causes, points)\n",
    "mu_e, alpha_e, sigma_e"
   ]
  },
  {
   "cell_type": "markdown",
   "metadata": {},
   "source": [
    "If we now start with values which are fairly far from being correct, then we still converge to a reasonable estimate."
   ]
  },
  {
   "cell_type": "code",
   "execution_count": 320,
   "metadata": {
    "collapsed": false
   },
   "outputs": [
    {
     "data": {
      "text/plain": [
       "(0.12, 0.91772151898734178, 0.0087461142273874207)"
      ]
     },
     "execution_count": 320,
     "metadata": {},
     "output_type": "execute_result"
    }
   ],
   "source": [
    "mu_e, alpha_e, sigma_e = 1, 2, 0.5\n",
    "\n",
    "for _ in range(20):\n",
    "    p_matrix = make_probability_matrix(points, mu_e, alpha_e, sigma_e)\n",
    "    causes = sample_causality(p_matrix)\n",
    "    mu_e, alpha_e, sigma_e = make_estimates(causes, points)\n",
    "\n",
    "mu_e, alpha_e, sigma_e"
   ]
  },
  {
   "cell_type": "markdown",
   "metadata": {},
   "source": [
    "# Some calculations #\n",
    "\n",
    "The offspring have intensity $\\alpha \\beta(t) = \\alpha (1+t)^{-2}$ and so the compensator is\n",
    "$$ \\Lambda^*(t) = \\int_0^t \\alpha(1+s)^{-2} \\ ds = \\alpha \\big(1 - (1+t)^{-1} \\big) = \\frac{\\alpha t}{1+t} $$\n",
    "Thus solving $\\Lambda^*(t) = s$ gives\n",
    "$$ t = \\frac{s}{\\alpha - s} $$"
   ]
  },
  {
   "cell_type": "markdown",
   "metadata": {},
   "source": [
    "### MLEs for $\\mu$, $\\sigma$ and $\\alpha$ ###\n",
    "\n",
    "Given (the times of) background events $s_1 < s_2 < \\cdots < s_m$ we wish to estimate $\\mu$ under the assumption of a constant conditional intensity function $\\mu$.  This is straightforward, as under this assumption, the inter-time gaps $(s_2-s_1, s_3-s_2, \\cdots, s_m-s_{m-1})$ are iid as exponential random variables.\n",
    "- The MLE for $\\mu$ is then the inverse of the sample mean, see [Wikipedia: Parameter estimation](https://en.wikipedia.org/wiki/Exponential_distribution#Maximum_likelihood).\n",
    "\n",
    "*However* because we are using a finite window, a better estimate is just the count:\n",
    "$$ \\hat\\mu = m / w_{\\text{length}} $$\n",
    "\n",
    "Now consider the \"triggered\" events, where we are given the differences between the \"cause\" and \"result\" events, say $(\\Delta t_i, \\Delta x_i)_{i=1}^n$.  Because of the form of our assumed distributions, we can treat these separately.\n",
    "\n",
    "- The $(\\Delta x_i)$ come from a centred normal distribution with variance $\\sigma^2$.  We estimate this in the usual way: [Wikipedia](https://en.wikipedia.org/wiki/Normal_distribution#Sample_variance)"
   ]
  },
  {
   "cell_type": "markdown",
   "metadata": {},
   "source": [
    "For the \"power law\" conditional intensity function $\\beta(t) = \\alpha (1+t)^{-2}$, we have to think about how to estimate $\\alpha$.  The parameter $\\alpha$ controls only the total intensity.  For example, if we double $\\alpha$, then we expect each event to trigger twice the number of \"offspring\", but otherwise to have no further change.  As the compensator ($\\Lambda^*$ above) converges to $\\alpha$ as $t\\rightarrow\\infty$:\n",
    "\n",
    "- If we assume we can see the _entire_ process, then an estimate of $\\alpha$ is just the number of subsequent events each event triggers.  Notice that our \"probability matrix\" encodes this information.\n",
    "\n",
    "If we cannot see the entire process (which is the case) then we might \"miss\" triggered events because they occur after the end of our window."
   ]
  },
  {
   "cell_type": "markdown",
   "metadata": {},
   "source": []
  }
 ],
 "metadata": {
  "kernelspec": {
   "display_name": "Python 3",
   "language": "python",
   "name": "python3"
  },
  "language_info": {
   "codemirror_mode": {
    "name": "ipython",
    "version": 3
   },
   "file_extension": ".py",
   "mimetype": "text/x-python",
   "name": "python",
   "nbconvert_exporter": "python",
   "pygments_lexer": "ipython3",
   "version": "3.6.0"
  }
 },
 "nbformat": 4,
 "nbformat_minor": 2
}
