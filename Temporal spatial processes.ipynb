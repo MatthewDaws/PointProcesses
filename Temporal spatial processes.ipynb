{
 "cells": [
  {
   "cell_type": "markdown",
   "metadata": {
    "collapsed": true
   },
   "source": [
    "# Marked processes #\n",
    "\n",
    "We shall be interested in spatial processes which occur in time.\n",
    "\n",
    "- For example, we might wish to model a self-exciting process where events occur at a location in (2 or 3 dimensional) space, and the \"offspring\" events show a clustering behaviour close to the parent event.\n",
    "\n",
    "The standard way of treating such a process is via \"marks\".  We start with a temporal process as already discussed, and to each event we also associate a \"mark\" from a \"mark space\".\n",
    "\n",
    "- Our mark space will be $\\mathbb R^2$, or a subset thereof, i.e. a 2 dimensional point in space.\n",
    "- Marks can also be discrete, for example to classify events into a number of different types."
   ]
  },
  {
   "cell_type": "markdown",
   "metadata": {},
   "source": [
    "We shall consider a restricted setup.  Marks may occur in a \"mark space\" $M$ (probably $M\\subseteq \\mathbb R^2$.\n",
    "\n",
    "- Immigrants will have independently chosen marks, say with density $\\gamma(\\kappa,t)$.\n",
    "- The immigrant intensity may vary with time, $\\mu(t)$.\n",
    "- Offspring intensity is $\\alpha(\\kappa) \\beta(t,\\kappa)$ where $\\alpha$ is the \"total intensity\" depending on the mark, and $\\beta$ is taken to be a normalised intensity, depending on time and the mark.\n",
    "- The offspring marks are independent and only depend upon the time and mark of the parent.\n",
    "\n",
    "Thus the total intensity function is\n",
    "$$ \\lambda^*(t) = \\mu(t) + \\sum_{t_i < t} \\alpha(\\kappa_i) \\beta(t-t_i,\\kappa_i). $$"
   ]
  },
  {
   "cell_type": "markdown",
   "metadata": {},
   "source": [
    "An example of an ETAS (epidemic type aftershock model) has mark space consisting triples $\\kappa=(m,x,y)$ where $m>0$ is the \"magnitude\" of the event, and $(x,y)$ are coordinates in a window $W$.\n",
    "\n",
    "- $\\mu(t) = \\mu_1$ for $t\\geq 0$.  So background intensity is constant.\n",
    "- $\\alpha(\\kappa) = \\alpha_1 e^{m \\alpha_2}$.  So the total intensity is exponential in the magnitude.\n",
    "- $\\beta(t,\\kappa) = \\beta(t)$ is some decaying function in $t$.  For example, a power law\n",
    "$$ \\beta(t) = \\frac{\\beta_2}{\\beta_1} \\Big( 1+\\frac{t}{\\beta_1} \\Big)^{-\\beta_2-1} $$\n",
    "where we scale by $\\beta_1$, and decay at rate $\\beta_2$, and normalise.  Notice that this example is independant of the mark.\n",
    "- For immigrants we have mark density $\\gamma_1 e^{-\\gamma_1 m} |W|^{-1}$ for $(x,y)\\in W$.  So the coordinates of events are uniform in $W$, and the magnitude follows an exponential distribution.\n",
    "- For offspring, we have a more complicated mark density:\n",
    "$$ \\gamma(\\kappa | t, (t_p,\\kappa_p)) = \\gamma_1 e^{-\\gamma_1 m} \\frac{1}{2\\pi\\gamma_2^2}\n",
    "\\exp\\Big( - \\frac{\\| (x,y) - (x_p,y_p) \\|^2}{2\\gamma_2^2} \\Big) $$\n",
    "where the parent event occurred at time $t_p$ with mark $\\kappa_p$.  Thus the magnitude continues to follow an exponential distribution, but the location of the \"aftershock\" follows a Gaussian distribution centred on the location of the parent event.\n",
    "\n",
    "Here we have followed [Rasmussen, \"Bayesian Inference for Hawkes Processes\"](https://doi.org/10.1007/s11009-011-9272-5)."
   ]
  },
  {
   "cell_type": "markdown",
   "metadata": {},
   "source": [
    "This approach via \"marks\" may seem complicated, but it allows use to easily adapt the simulation procedure from the unmarked case, by simply adding in the marks.\n",
    "\n",
    "Let us consider a one dimensional mark space, which is easier to visualise.\n",
    "\n",
    "- $\\mu(t) = \\mu$\n",
    "- $\\alpha(\\kappa)=\\alpha$\n",
    "- $\\beta(t,\\kappa) = (1+t)^{-2}$\n",
    "- Immigrants will have mark uniformly chosen in $[0,1]$\n",
    "- Offspring have mark density following a Gaussian centred on the parent location, say with variance $\\sigma^2$."
   ]
  },
  {
   "cell_type": "code",
   "execution_count": 1,
   "metadata": {
    "collapsed": true
   },
   "outputs": [],
   "source": [
    "%matplotlib inline\n",
    "import numpy as np\n",
    "import matplotlib.pyplot as plt\n",
    "import scipy.stats\n",
    "import utils"
   ]
  },
  {
   "cell_type": "code",
   "execution_count": 37,
   "metadata": {
    "collapsed": false
   },
   "outputs": [
    {
     "data": {
      "image/png": "[encoded data removed]",
      "text/plain": [
       "<matplotlib.figure.Figure at 0xab166a0>"
      ]
     },
     "metadata": {},
     "output_type": "display_data"
    }
   ],
   "source": [
    "from collections import namedtuple\n",
    "Event = namedtuple(\"Event\", [\"t\", \"loc\"])\n",
    "\n",
    "mu = 0.1\n",
    "alpha = 1\n",
    "sigma = 0.01\n",
    "\n",
    "def simulate_sub_process(parent : Event):\n",
    "    points = []\n",
    "    t = 0\n",
    "    while True:\n",
    "        t += np.random.exponential()\n",
    "        if t >= alpha:\n",
    "            return points\n",
    "        loc = np.random.normal(loc=parent.loc, scale=sigma)\n",
    "        if loc >= 0 and loc <= 1:\n",
    "            points.append(Event(parent.t + t / (alpha - t), loc))\n",
    "    \n",
    "def simulate(window_size=100):\n",
    "    points = utils.sample_poisson_process(window_size, 1/mu)\n",
    "    points = [Event(t, np.random.uniform()) for t in points]\n",
    "    to_process = list(points)\n",
    "    while len(to_process) > 0:\n",
    "        next_point = to_process.pop()\n",
    "        for event in simulate_sub_process(next_point):\n",
    "            if event.t < window_size:\n",
    "                points.append(event)\n",
    "                to_process.append(event)\n",
    "    points.sort(key = lambda e : e.t)\n",
    "    return points\n",
    "\n",
    "points = simulate()\n",
    "width, _ = utils.slim_aspect()\n",
    "fig, ax = plt.subplots(nrows=1, ncols=1, figsize=(width,7))\n",
    "ax.set(xlim=[0,100], ylim=[-0.1,1.1], title=\"1D ETAS simulation\")\n",
    "_ = ax.scatter(x=[e.t for e in points], y=[e.loc for e in points], color=\"black\")"
   ]
  },
  {
   "cell_type": "markdown",
   "metadata": {},
   "source": [
    "In this example, we have set the background rate to be low, and the mark distribution of offspring to be tightly bound to the location of the parent.  This allows us to visualise how an immigrant sets off a chain of \"aftershocks\" which spread out slowly in space."
   ]
  },
  {
   "cell_type": "code",
   "execution_count": null,
   "metadata": {
    "collapsed": true
   },
   "outputs": [],
   "source": []
  },
  {
   "cell_type": "markdown",
   "metadata": {},
   "source": [
    "# Some calculations #\n",
    "\n",
    "The offspring have intensity $\\alpha \\beta(t) = \\alpha (1+t)^{-2}$ and so the compensator is\n",
    "$$ \\Lambda^*(t) = \\int_0^t \\alpha(1+s)^{-2} \\ ds = \\alpha \\big(1 - (1+t)^{-1} \\big) $$\n",
    "Thus solving $\\Lambda^*(t) = s$ gives\n",
    "$$ t = \\frac{s}{\\alpha - s} $$"
   ]
  }
 ],
 "metadata": {
  "kernelspec": {
   "display_name": "Python 3",
   "language": "python",
   "name": "python3"
  }
 },
 "nbformat": 4,
 "nbformat_minor": 2
}
